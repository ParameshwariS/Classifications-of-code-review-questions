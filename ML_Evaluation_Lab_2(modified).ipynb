{
  "nbformat": 4,
  "nbformat_minor": 0,
  "metadata": {
    "colab": {
      "name": "ML Evaluation Lab 2(modified).ipynb",
      "provenance": [],
      "collapsed_sections": []
    },
    "kernelspec": {
      "name": "python3",
      "display_name": "Python 3"
    },
    "language_info": {
      "name": "python"
    }
  },
  "cells": [
    {
      "cell_type": "markdown",
      "metadata": {
        "id": "zb_7bQKP4Exz"
      },
      "source": [
        "## Parameshwari S - CB.SC.I5DAS18026"
      ]
    },
    {
      "cell_type": "markdown",
      "metadata": {
        "id": "n2VcIFPn2kQq"
      },
      "source": [
        "## Importing required packages"
      ]
    },
    {
      "cell_type": "code",
      "metadata": {
        "colab": {
          "base_uri": "https://localhost:8080/"
        },
        "id": "RBPte0km4L48",
        "outputId": "0e264391-3377-4280-ffd3-dbcc780578e9"
      },
      "source": [
        "import pandas as pd\n",
        "import numpy as np\n",
        "import string\n",
        "import re\n",
        "import nltk\n",
        "from nltk.stem import WordNetLemmatizer\n",
        "from nltk.corpus import wordnet\n",
        "nltk.download('averaged_perceptron_tagger')\n",
        "nltk.download('wordnet')\n",
        "nltk.download('punkt')\n",
        "\n",
        "from sklearn.feature_extraction.text import TfidfVectorizer\n",
        "from sklearn.model_selection import train_test_split\n",
        "from sklearn.linear_model import LogisticRegression\n",
        "from sklearn import svm\n",
        "from sklearn.naive_bayes import MultinomialNB\n",
        "from sklearn.metrics import accuracy_score"
      ],
      "execution_count": 33,
      "outputs": [
        {
          "output_type": "stream",
          "text": [
            "[nltk_data] Downloading package averaged_perceptron_tagger to\n",
            "[nltk_data]     /root/nltk_data...\n",
            "[nltk_data]   Package averaged_perceptron_tagger is already up-to-\n",
            "[nltk_data]       date!\n",
            "[nltk_data] Downloading package wordnet to /root/nltk_data...\n",
            "[nltk_data]   Package wordnet is already up-to-date!\n",
            "[nltk_data] Downloading package punkt to /root/nltk_data...\n",
            "[nltk_data]   Package punkt is already up-to-date!\n"
          ],
          "name": "stdout"
        }
      ]
    },
    {
      "cell_type": "markdown",
      "metadata": {
        "id": "hB5Ao-rK2gOi"
      },
      "source": [
        "## Data Exploration"
      ]
    },
    {
      "cell_type": "code",
      "metadata": {
        "colab": {
          "base_uri": "https://localhost:8080/",
          "height": 204
        },
        "id": "DexSyq--4aax",
        "outputId": "f04e21c4-264d-40d7-d86f-a0c92a79b6ee"
      },
      "source": [
        "df = pd.read_excel(\"/content/dataset_1.xlsx\")\n",
        "df.head()"
      ],
      "execution_count": 34,
      "outputs": [
        {
          "output_type": "execute_result",
          "data": {
            "text/html": [
              "<div>\n",
              "<style scoped>\n",
              "    .dataframe tbody tr th:only-of-type {\n",
              "        vertical-align: middle;\n",
              "    }\n",
              "\n",
              "    .dataframe tbody tr th {\n",
              "        vertical-align: top;\n",
              "    }\n",
              "\n",
              "    .dataframe thead th {\n",
              "        text-align: right;\n",
              "    }\n",
              "</style>\n",
              "<table border=\"1\" class=\"dataframe\">\n",
              "  <thead>\n",
              "    <tr style=\"text-align: right;\">\n",
              "      <th></th>\n",
              "      <th>inline-comment-id</th>\n",
              "      <th># Comment</th>\n",
              "      <th>Question</th>\n",
              "      <th>Question_H</th>\n",
              "      <th>Final Label</th>\n",
              "    </tr>\n",
              "  </thead>\n",
              "  <tbody>\n",
              "    <tr>\n",
              "      <th>0</th>\n",
              "      <td>84326dd1_566c7146</td>\n",
              "      <td>1</td>\n",
              "      <td>is this what they intended? don't they really ...</td>\n",
              "      <td>is this what they intended?</td>\n",
              "      <td>request for confirmation</td>\n",
              "    </tr>\n",
              "    <tr>\n",
              "      <th>1</th>\n",
              "      <td>84326dd1_566c7146</td>\n",
              "      <td>2</td>\n",
              "      <td>is this what they intended? don't they really ...</td>\n",
              "      <td>don't they really want $(TARGET_OUT_DATA_NATIV...</td>\n",
              "      <td>surprise</td>\n",
              "    </tr>\n",
              "    <tr>\n",
              "      <th>2</th>\n",
              "      <td>99d1f8e4_92b31cea</td>\n",
              "      <td>3</td>\n",
              "      <td>Don't we need to increment 'i' in the else cas...</td>\n",
              "      <td>Don't we need to increment 'i' in the else cas...</td>\n",
              "      <td>suggestion</td>\n",
              "    </tr>\n",
              "    <tr>\n",
              "      <th>3</th>\n",
              "      <td>193d089f_f5fac752</td>\n",
              "      <td>4</td>\n",
              "      <td>i can't see anywhere where this is set to fals...</td>\n",
              "      <td>should we just adjust the single reference in ...</td>\n",
              "      <td>suggestion</td>\n",
              "    </tr>\n",
              "    <tr>\n",
              "      <th>4</th>\n",
              "      <td>50c2f81e_ac4fd6fc</td>\n",
              "      <td>5</td>\n",
              "      <td>are you sure you want to include this source f...</td>\n",
              "      <td>are you sure you want to include this source f...</td>\n",
              "      <td>criticism</td>\n",
              "    </tr>\n",
              "  </tbody>\n",
              "</table>\n",
              "</div>"
            ],
            "text/plain": [
              "   inline-comment-id  ...               Final Label\n",
              "0  84326dd1_566c7146  ...  request for confirmation\n",
              "1  84326dd1_566c7146  ...                  surprise\n",
              "2  99d1f8e4_92b31cea  ...                suggestion\n",
              "3  193d089f_f5fac752  ...                suggestion\n",
              "4  50c2f81e_ac4fd6fc  ...                 criticism\n",
              "\n",
              "[5 rows x 5 columns]"
            ]
          },
          "metadata": {
            "tags": []
          },
          "execution_count": 34
        }
      ]
    },
    {
      "cell_type": "code",
      "metadata": {
        "colab": {
          "base_uri": "https://localhost:8080/"
        },
        "id": "bBEaCieB4ji-",
        "outputId": "327ae40c-be10-49c6-e046-c009afb4e651"
      },
      "source": [
        "df.shape"
      ],
      "execution_count": 35,
      "outputs": [
        {
          "output_type": "execute_result",
          "data": {
            "text/plain": [
              "(499, 5)"
            ]
          },
          "metadata": {
            "tags": []
          },
          "execution_count": 35
        }
      ]
    },
    {
      "cell_type": "code",
      "metadata": {
        "colab": {
          "base_uri": "https://localhost:8080/"
        },
        "id": "xsZm3jvQ47w9",
        "outputId": "f45427e5-c0d8-4032-ffb3-16826349b088"
      },
      "source": [
        "df.info()"
      ],
      "execution_count": 36,
      "outputs": [
        {
          "output_type": "stream",
          "text": [
            "<class 'pandas.core.frame.DataFrame'>\n",
            "RangeIndex: 499 entries, 0 to 498\n",
            "Data columns (total 5 columns):\n",
            " #   Column             Non-Null Count  Dtype \n",
            "---  ------             --------------  ----- \n",
            " 0   inline-comment-id  499 non-null    object\n",
            " 1   # Comment          499 non-null    int64 \n",
            " 2   Question           499 non-null    object\n",
            " 3   Question_H         499 non-null    object\n",
            " 4   Final Label        499 non-null    object\n",
            "dtypes: int64(1), object(4)\n",
            "memory usage: 19.6+ KB\n"
          ],
          "name": "stdout"
        }
      ]
    },
    {
      "cell_type": "code",
      "metadata": {
        "colab": {
          "base_uri": "https://localhost:8080/"
        },
        "id": "pP1xkev0J-9F",
        "outputId": "3837b2f7-eb1c-40c9-d8a4-55a25100fa95"
      },
      "source": [
        "df['Question_H'].duplicated()"
      ],
      "execution_count": 37,
      "outputs": [
        {
          "output_type": "execute_result",
          "data": {
            "text/plain": [
              "0      False\n",
              "1      False\n",
              "2      False\n",
              "3      False\n",
              "4      False\n",
              "       ...  \n",
              "494    False\n",
              "495    False\n",
              "496    False\n",
              "497    False\n",
              "498    False\n",
              "Name: Question_H, Length: 499, dtype: bool"
            ]
          },
          "metadata": {
            "tags": []
          },
          "execution_count": 37
        }
      ]
    },
    {
      "cell_type": "code",
      "metadata": {
        "colab": {
          "base_uri": "https://localhost:8080/"
        },
        "id": "RdM6zQ85Swzp",
        "outputId": "3e0de228-bd1a-402f-eb3a-e89d351331bb"
      },
      "source": [
        "df['Final Label'].value_counts()"
      ],
      "execution_count": 38,
      "outputs": [
        {
          "output_type": "execute_result",
          "data": {
            "text/plain": [
              "suggestion                   163\n",
              "request for confirmation      92\n",
              "request for information       58\n",
              "request for rationale         45\n",
              "request for action            32\n",
              "criticism                     25\n",
              "request for clarification     24\n",
              "request for opinion           21\n",
              "hypothetical scenario         13\n",
              "surprise                       7\n",
              "anger                          6\n",
              "rhetorical question            6\n",
              "discarded                      5\n",
              "action                         2\n",
              "Name: Final Label, dtype: int64"
            ]
          },
          "metadata": {
            "tags": []
          },
          "execution_count": 38
        }
      ]
    },
    {
      "cell_type": "code",
      "metadata": {
        "id": "k6GXtW7iS6HC"
      },
      "source": [
        "df = df.replace(to_replace = [\"request for confirmation\", \"request for information\",\"request for rationale\",\n",
        "                                 \"request for action\",\"request for clarification\",\"request for opinion\",\"action\"],\n",
        "                    value = \"Requests\")\n",
        "df = df.replace(to_replace = [\"criticism\",\"anger\",\"surprise\"], value = 'Attitudes and emotions')"
      ],
      "execution_count": 39,
      "outputs": []
    },
    {
      "cell_type": "code",
      "metadata": {
        "colab": {
          "base_uri": "https://localhost:8080/"
        },
        "id": "aDFc2JIkS-j8",
        "outputId": "c58e87e3-085d-490d-a5a6-a9d40e1f60c1"
      },
      "source": [
        "df['Final Label'].value_counts()"
      ],
      "execution_count": 40,
      "outputs": [
        {
          "output_type": "execute_result",
          "data": {
            "text/plain": [
              "Requests                  274\n",
              "suggestion                163\n",
              "Attitudes and emotions     38\n",
              "hypothetical scenario      13\n",
              "rhetorical question         6\n",
              "discarded                   5\n",
              "Name: Final Label, dtype: int64"
            ]
          },
          "metadata": {
            "tags": []
          },
          "execution_count": 40
        }
      ]
    },
    {
      "cell_type": "code",
      "metadata": {
        "id": "zzHBEQgepeP8"
      },
      "source": [
        "df.rename(columns = {'inline-comment-id' : 'Id', '# Comment' : 'Comment'}, inplace = True)"
      ],
      "execution_count": 41,
      "outputs": []
    },
    {
      "cell_type": "code",
      "metadata": {
        "colab": {
          "base_uri": "https://localhost:8080/",
          "height": 35
        },
        "id": "MpRQ0H98DbDh",
        "outputId": "6d473c08-20ed-4628-b7a9-61a7865cf0b5"
      },
      "source": [
        "df['Question_H'][4]"
      ],
      "execution_count": 42,
      "outputs": [
        {
          "output_type": "execute_result",
          "data": {
            "application/vnd.google.colaboratory.intrinsic+json": {
              "type": "string"
            },
            "text/plain": [
              "'are you sure you want to include this source file directly ?'"
            ]
          },
          "metadata": {
            "tags": []
          },
          "execution_count": 42
        }
      ]
    },
    {
      "cell_type": "code",
      "metadata": {
        "colab": {
          "base_uri": "https://localhost:8080/",
          "height": 35
        },
        "id": "BO5K55c4Dax4",
        "outputId": "f71ad7e0-a553-498c-ebc1-ee2ef00b35a3"
      },
      "source": [
        "df['Question_H'][5]"
      ],
      "execution_count": 43,
      "outputs": [
        {
          "output_type": "execute_result",
          "data": {
            "application/vnd.google.colaboratory.intrinsic+json": {
              "type": "string"
            },
            "text/plain": [
              "'Why not create a static library ?'"
            ]
          },
          "metadata": {
            "tags": []
          },
          "execution_count": 43
        }
      ]
    },
    {
      "cell_type": "code",
      "metadata": {
        "colab": {
          "base_uri": "https://localhost:8080/"
        },
        "id": "HvAcVehD5Le2",
        "outputId": "d06e5b92-b6fa-4dbb-eb66-88b0f0929ace"
      },
      "source": [
        "df['Question_H'][4] == df['Question_H'][5]"
      ],
      "execution_count": 44,
      "outputs": [
        {
          "output_type": "execute_result",
          "data": {
            "text/plain": [
              "False"
            ]
          },
          "metadata": {
            "tags": []
          },
          "execution_count": 44
        }
      ]
    },
    {
      "cell_type": "markdown",
      "metadata": {
        "id": "hyUeLkxED1Or"
      },
      "source": [
        "## Text-Preprocessing"
      ]
    },
    {
      "cell_type": "code",
      "metadata": {
        "id": "iL8WGpc9EAOk"
      },
      "source": [
        "dfc = df.copy()"
      ],
      "execution_count": 45,
      "outputs": []
    },
    {
      "cell_type": "code",
      "metadata": {
        "id": "T6TD6pwwTPDi"
      },
      "source": [
        "def remove_special_characters(text):\n",
        "    pat = r'[^a-zA-z0-9.,!?/:;\\\"\\'\\s]'\n",
        "    return re.sub(pat, '', text)"
      ],
      "execution_count": 46,
      "outputs": []
    },
    {
      "cell_type": "code",
      "metadata": {
        "id": "_V5Kpg4t6EHN"
      },
      "source": [
        "def removePunctuations(sentence):\n",
        "    cleaned_text  = re.sub('[^a-zA-Z]',' ',sentence)\n",
        "    return cleaned_text"
      ],
      "execution_count": 47,
      "outputs": []
    },
    {
      "cell_type": "code",
      "metadata": {
        "id": "CalGa6snJZNp"
      },
      "source": [
        "def line_breaks(x):\n",
        "  return x.replace('\\n', ' ').replace('\\r', '')"
      ],
      "execution_count": 48,
      "outputs": []
    },
    {
      "cell_type": "code",
      "metadata": {
        "id": "TdM_zn8-dYl6"
      },
      "source": [
        "def space_num(x):\n",
        "  x = re.sub(\"\\S*\\d\\S*\", \"\", x).strip()\n",
        "  return x"
      ],
      "execution_count": 49,
      "outputs": []
    },
    {
      "cell_type": "code",
      "metadata": {
        "id": "b-A9H_TPExXT"
      },
      "source": [
        "def removeURL(sentence):\n",
        "    text = re.sub(r\"http\\S+\", \" \", sentence)\n",
        "    sentence = re.sub(r\"www.\\S+\", \" \", text)\n",
        "    return sentence"
      ],
      "execution_count": 50,
      "outputs": []
    },
    {
      "cell_type": "code",
      "metadata": {
        "id": "23GBC9i2LzDf"
      },
      "source": [
        "def remove_html(text):\n",
        "    html_pattern = re.compile('<.*?>')\n",
        "    return html_pattern.sub(r'', text)"
      ],
      "execution_count": 51,
      "outputs": []
    },
    {
      "cell_type": "code",
      "metadata": {
        "id": "TTjxG_UGiIUv"
      },
      "source": [
        "def removePatterns(sentence): \n",
        "    cleaned_text  = re.sub(\"\\\\s*\\\\b(?=\\\\w*(\\\\w)\\\\1{2,})\\\\w*\\\\b\",' ',sentence)\n",
        "    return (cleaned_text)"
      ],
      "execution_count": 52,
      "outputs": []
    },
    {
      "cell_type": "code",
      "metadata": {
        "id": "g1v5Fdf7c0fZ"
      },
      "source": [
        "def decontracted(phrase):\n",
        "    phrase = re.sub(r\"won't\", \"will not\", phrase)\n",
        "    phrase = re.sub(r\"can\\'t\", \"can not\", phrase)\n",
        "    phrase = re.sub(r\"n\\'t\", \" not\", phrase)\n",
        "    phrase = re.sub(r\"\\'re\", \" are\", phrase)\n",
        "    phrase = re.sub(r\"\\'s\", \" is\", phrase)\n",
        "    phrase = re.sub(r\"\\'d\", \" would\", phrase)\n",
        "    phrase = re.sub(r\"\\'ll\", \" will\", phrase)\n",
        "    phrase = re.sub(r\"\\'t\", \" not\", phrase)\n",
        "    phrase = re.sub(r\"\\'ve\", \" have\", phrase)\n",
        "    phrase = re.sub(r\"\\'m\", \" am\", phrase)\n",
        "    return phrase"
      ],
      "execution_count": 53,
      "outputs": []
    },
    {
      "cell_type": "code",
      "metadata": {
        "id": "mpbLDl0Wletm"
      },
      "source": [
        "lemmatizer = WordNetLemmatizer()\n",
        "def pos_tagger(nltk_tag):\n",
        "    if nltk_tag.startswith('J'):\n",
        "        return wordnet.ADJ\n",
        "    elif nltk_tag.startswith('V'):\n",
        "        return wordnet.VERB\n",
        "    elif nltk_tag.startswith('N'):\n",
        "        return wordnet.NOUN\n",
        "    elif nltk_tag.startswith('R'):\n",
        "        return wordnet.ADV\n",
        "    else:          \n",
        "        return None\n",
        "def lemmatize_sent(i):\n",
        "  pos_tagged = nltk.pos_tag(nltk.word_tokenize(i))  \n",
        "  wordnet_tagged = list(map(lambda x: (x[0], pos_tagger(x[1])), pos_tagged))\n",
        "  lemmatized_sentence = []\n",
        "  for word, tag in wordnet_tagged:\n",
        "    if tag is None:\n",
        "        lemmatized_sentence.append(word)\n",
        "    else:        \n",
        "        lemmatized_sentence.append(lemmatizer.lemmatize(word, tag))\n",
        "  lemmatized_sentence = \" \".join(lemmatized_sentence)\n",
        "  return lemmatized_sentence"
      ],
      "execution_count": 54,
      "outputs": []
    },
    {
      "cell_type": "code",
      "metadata": {
        "id": "05AORqI_36bX"
      },
      "source": [
        "final = []\n",
        "for text in dfc['Question_H'].values:\n",
        "  filter = []\n",
        "  text = remove_special_characters(text)\n",
        "  text = text.lower()\n",
        "  text = removePunctuations(text)\n",
        "  text = line_breaks(text)\n",
        "  text = removeURL(text)\n",
        "  text = remove_html(text)\n",
        "  text = decontracted(text)\n",
        "  text = space_num(text)\n",
        "  text = removePatterns(text)\n",
        "  for cleaned_words in text.split():  \n",
        "    s = lemmatize_sent(cleaned_words)\n",
        "    filter.append(s)\n",
        "  text = \" \".join(filter)\n",
        "  final.append(text)"
      ],
      "execution_count": 55,
      "outputs": []
    },
    {
      "cell_type": "code",
      "metadata": {
        "id": "nuYmXduPepb_",
        "colab": {
          "base_uri": "https://localhost:8080/",
          "height": 204
        },
        "outputId": "8baff1d7-ccd5-4fa4-8354-619935e7531d"
      },
      "source": [
        "dfc['Final text'] = final\n",
        "dfc.head()"
      ],
      "execution_count": 56,
      "outputs": [
        {
          "output_type": "execute_result",
          "data": {
            "text/html": [
              "<div>\n",
              "<style scoped>\n",
              "    .dataframe tbody tr th:only-of-type {\n",
              "        vertical-align: middle;\n",
              "    }\n",
              "\n",
              "    .dataframe tbody tr th {\n",
              "        vertical-align: top;\n",
              "    }\n",
              "\n",
              "    .dataframe thead th {\n",
              "        text-align: right;\n",
              "    }\n",
              "</style>\n",
              "<table border=\"1\" class=\"dataframe\">\n",
              "  <thead>\n",
              "    <tr style=\"text-align: right;\">\n",
              "      <th></th>\n",
              "      <th>Id</th>\n",
              "      <th>Comment</th>\n",
              "      <th>Question</th>\n",
              "      <th>Question_H</th>\n",
              "      <th>Final Label</th>\n",
              "      <th>Final text</th>\n",
              "    </tr>\n",
              "  </thead>\n",
              "  <tbody>\n",
              "    <tr>\n",
              "      <th>0</th>\n",
              "      <td>84326dd1_566c7146</td>\n",
              "      <td>1</td>\n",
              "      <td>is this what they intended? don't they really ...</td>\n",
              "      <td>is this what they intended?</td>\n",
              "      <td>Requests</td>\n",
              "      <td>be this what they intend</td>\n",
              "    </tr>\n",
              "    <tr>\n",
              "      <th>1</th>\n",
              "      <td>84326dd1_566c7146</td>\n",
              "      <td>2</td>\n",
              "      <td>is this what they intended? don't they really ...</td>\n",
              "      <td>don't they really want $(TARGET_OUT_DATA_NATIV...</td>\n",
              "      <td>Attitudes and emotions</td>\n",
              "      <td>don t they really want target out data native ...</td>\n",
              "    </tr>\n",
              "    <tr>\n",
              "      <th>2</th>\n",
              "      <td>99d1f8e4_92b31cea</td>\n",
              "      <td>3</td>\n",
              "      <td>Don't we need to increment 'i' in the else cas...</td>\n",
              "      <td>Don't we need to increment 'i' in the else cas...</td>\n",
              "      <td>suggestion</td>\n",
              "      <td>don t we need to increment i in the else case ...</td>\n",
              "    </tr>\n",
              "    <tr>\n",
              "      <th>3</th>\n",
              "      <td>193d089f_f5fac752</td>\n",
              "      <td>4</td>\n",
              "      <td>i can't see anywhere where this is set to fals...</td>\n",
              "      <td>should we just adjust the single reference in ...</td>\n",
              "      <td>suggestion</td>\n",
              "      <td>should we just adjust the single reference in ...</td>\n",
              "    </tr>\n",
              "    <tr>\n",
              "      <th>4</th>\n",
              "      <td>50c2f81e_ac4fd6fc</td>\n",
              "      <td>5</td>\n",
              "      <td>are you sure you want to include this source f...</td>\n",
              "      <td>are you sure you want to include this source f...</td>\n",
              "      <td>Attitudes and emotions</td>\n",
              "      <td>be you sure you want to include this source fi...</td>\n",
              "    </tr>\n",
              "  </tbody>\n",
              "</table>\n",
              "</div>"
            ],
            "text/plain": [
              "                  Id  ...                                         Final text\n",
              "0  84326dd1_566c7146  ...                           be this what they intend\n",
              "1  84326dd1_566c7146  ...  don t they really want target out data native ...\n",
              "2  99d1f8e4_92b31cea  ...  don t we need to increment i in the else case ...\n",
              "3  193d089f_f5fac752  ...  should we just adjust the single reference in ...\n",
              "4  50c2f81e_ac4fd6fc  ...  be you sure you want to include this source fi...\n",
              "\n",
              "[5 rows x 6 columns]"
            ]
          },
          "metadata": {
            "tags": []
          },
          "execution_count": 56
        }
      ]
    },
    {
      "cell_type": "markdown",
      "metadata": {
        "id": "7LC7PILEG7_c"
      },
      "source": [
        "##Without adding Feature"
      ]
    },
    {
      "cell_type": "markdown",
      "metadata": {
        "id": "IAzw6x6lG_Iu"
      },
      "source": [
        "##Vectorizing"
      ]
    },
    {
      "cell_type": "code",
      "metadata": {
        "id": "nV_6Fg9sGsod"
      },
      "source": [
        "Tfidf = TfidfVectorizer(ngram_range = (1, 2))\n",
        "tfd = Tfidf.fit_transform(dfc['Final text'])"
      ],
      "execution_count": 57,
      "outputs": []
    },
    {
      "cell_type": "markdown",
      "metadata": {
        "id": "MTt78w-aHCcw"
      },
      "source": [
        "##Train-test split"
      ]
    },
    {
      "cell_type": "code",
      "metadata": {
        "id": "Rod3txs9Gx5E"
      },
      "source": [
        "Xtrain, Xtest, ytrain, ytest = train_test_split(tfd, dfc['Final Label'], random_state = 42, test_size = 0.1)"
      ],
      "execution_count": 58,
      "outputs": []
    },
    {
      "cell_type": "markdown",
      "metadata": {
        "id": "5Sk62x1THEnz"
      },
      "source": [
        "##Evaluation"
      ]
    },
    {
      "cell_type": "code",
      "metadata": {
        "colab": {
          "base_uri": "https://localhost:8080/"
        },
        "id": "cpvDFoWWG0Vo",
        "outputId": "36907791-16a3-464b-9e23-4772d929decd"
      },
      "source": [
        "lr = LogisticRegression(max_iter = 500)\n",
        "pred = lr.fit(Xtrain,ytrain).predict(Xtest)\n",
        "print(\"Logistic Regression - \", accuracy_score(ytest, pred))\n",
        "\n",
        "svc = svm.SVC()\n",
        "pred = svc.fit(Xtrain, ytrain).predict(Xtest)\n",
        "print(\"Support Vector machine - \", accuracy_score(ytest, pred))\n",
        "\n",
        "mn = MultinomialNB()\n",
        "pred = mn.fit(Xtrain, ytrain).predict(Xtest)\n",
        "print(\"Naive Bayes - \", accuracy_score(ytest, pred))"
      ],
      "execution_count": 59,
      "outputs": [
        {
          "output_type": "stream",
          "text": [
            "Logistic Regression -  0.8\n",
            "Support Vector machine -  0.74\n",
            "Naive Bayes -  0.74\n"
          ],
          "name": "stdout"
        }
      ]
    },
    {
      "cell_type": "markdown",
      "metadata": {
        "id": "BR0GMhZWFkNQ"
      },
      "source": [
        "##Adding extra Feature - Length of the text"
      ]
    },
    {
      "cell_type": "code",
      "metadata": {
        "colab": {
          "base_uri": "https://localhost:8080/",
          "height": 204
        },
        "id": "umrw8rJjAutA",
        "outputId": "e34fd247-0439-4213-bf42-39212e91bbdd"
      },
      "source": [
        "length = []\n",
        "for i in range(len(dfc)):\n",
        "  length.append(len(dfc['Question_H'][i].split()))\n",
        "dfc['Length'] = length\n",
        "dfc.head()"
      ],
      "execution_count": 60,
      "outputs": [
        {
          "output_type": "execute_result",
          "data": {
            "text/html": [
              "<div>\n",
              "<style scoped>\n",
              "    .dataframe tbody tr th:only-of-type {\n",
              "        vertical-align: middle;\n",
              "    }\n",
              "\n",
              "    .dataframe tbody tr th {\n",
              "        vertical-align: top;\n",
              "    }\n",
              "\n",
              "    .dataframe thead th {\n",
              "        text-align: right;\n",
              "    }\n",
              "</style>\n",
              "<table border=\"1\" class=\"dataframe\">\n",
              "  <thead>\n",
              "    <tr style=\"text-align: right;\">\n",
              "      <th></th>\n",
              "      <th>Id</th>\n",
              "      <th>Comment</th>\n",
              "      <th>Question</th>\n",
              "      <th>Question_H</th>\n",
              "      <th>Final Label</th>\n",
              "      <th>Final text</th>\n",
              "      <th>Length</th>\n",
              "    </tr>\n",
              "  </thead>\n",
              "  <tbody>\n",
              "    <tr>\n",
              "      <th>0</th>\n",
              "      <td>84326dd1_566c7146</td>\n",
              "      <td>1</td>\n",
              "      <td>is this what they intended? don't they really ...</td>\n",
              "      <td>is this what they intended?</td>\n",
              "      <td>Requests</td>\n",
              "      <td>be this what they intend</td>\n",
              "      <td>5</td>\n",
              "    </tr>\n",
              "    <tr>\n",
              "      <th>1</th>\n",
              "      <td>84326dd1_566c7146</td>\n",
              "      <td>2</td>\n",
              "      <td>is this what they intended? don't they really ...</td>\n",
              "      <td>don't they really want $(TARGET_OUT_DATA_NATIV...</td>\n",
              "      <td>Attitudes and emotions</td>\n",
              "      <td>don t they really want target out data native ...</td>\n",
              "      <td>5</td>\n",
              "    </tr>\n",
              "    <tr>\n",
              "      <th>2</th>\n",
              "      <td>99d1f8e4_92b31cea</td>\n",
              "      <td>3</td>\n",
              "      <td>Don't we need to increment 'i' in the else cas...</td>\n",
              "      <td>Don't we need to increment 'i' in the else cas...</td>\n",
              "      <td>suggestion</td>\n",
              "      <td>don t we need to increment i in the else case ...</td>\n",
              "      <td>16</td>\n",
              "    </tr>\n",
              "    <tr>\n",
              "      <th>3</th>\n",
              "      <td>193d089f_f5fac752</td>\n",
              "      <td>4</td>\n",
              "      <td>i can't see anywhere where this is set to fals...</td>\n",
              "      <td>should we just adjust the single reference in ...</td>\n",
              "      <td>suggestion</td>\n",
              "      <td>should we just adjust the single reference in ...</td>\n",
              "      <td>13</td>\n",
              "    </tr>\n",
              "    <tr>\n",
              "      <th>4</th>\n",
              "      <td>50c2f81e_ac4fd6fc</td>\n",
              "      <td>5</td>\n",
              "      <td>are you sure you want to include this source f...</td>\n",
              "      <td>are you sure you want to include this source f...</td>\n",
              "      <td>Attitudes and emotions</td>\n",
              "      <td>be you sure you want to include this source fi...</td>\n",
              "      <td>12</td>\n",
              "    </tr>\n",
              "  </tbody>\n",
              "</table>\n",
              "</div>"
            ],
            "text/plain": [
              "                  Id  ...  Length\n",
              "0  84326dd1_566c7146  ...       5\n",
              "1  84326dd1_566c7146  ...       5\n",
              "2  99d1f8e4_92b31cea  ...      16\n",
              "3  193d089f_f5fac752  ...      13\n",
              "4  50c2f81e_ac4fd6fc  ...      12\n",
              "\n",
              "[5 rows x 7 columns]"
            ]
          },
          "metadata": {
            "tags": []
          },
          "execution_count": 60
        }
      ]
    },
    {
      "cell_type": "markdown",
      "metadata": {
        "id": "xD8QZ3cAFuep"
      },
      "source": [
        "##Vectorizing"
      ]
    },
    {
      "cell_type": "code",
      "metadata": {
        "id": "6v9COGRxJHSn"
      },
      "source": [
        "Tfidf = TfidfVectorizer(ngram_range = (1, 2))\n",
        "tfd = Tfidf.fit_transform(dfc['Final text'])"
      ],
      "execution_count": 61,
      "outputs": []
    },
    {
      "cell_type": "code",
      "metadata": {
        "id": "o7EneL5X3kdX"
      },
      "source": [
        "x = list(tfd.toarray())\n",
        "y = dfc['Length'].to_list()\n",
        "z = []\n",
        "for i,j in enumerate(x):\n",
        "  z.append(np.append(x[i], y[i]))\n",
        "X = np.asarray(z)"
      ],
      "execution_count": 62,
      "outputs": []
    },
    {
      "cell_type": "markdown",
      "metadata": {
        "id": "cIW4CmRkFzjP"
      },
      "source": [
        "##Train-test split"
      ]
    },
    {
      "cell_type": "code",
      "metadata": {
        "id": "Ee_ylshB1zr6"
      },
      "source": [
        "Xtrain, Xtest, ytrain, ytest = train_test_split(X, dfc['Final Label'], random_state = 42, test_size = 0.1)"
      ],
      "execution_count": 63,
      "outputs": []
    },
    {
      "cell_type": "markdown",
      "metadata": {
        "id": "o1qr6q77F5pd"
      },
      "source": [
        "##Evaluation"
      ]
    },
    {
      "cell_type": "code",
      "metadata": {
        "colab": {
          "base_uri": "https://localhost:8080/"
        },
        "id": "6EUoSOnv3d4P",
        "outputId": "f5d2bc9b-0d97-4153-e37a-4be38fa200cc"
      },
      "source": [
        "lr = LogisticRegression(max_iter = 500)\n",
        "pred = lr.fit(Xtrain,ytrain).predict(Xtest)\n",
        "print(\"Logistic Regression - \", accuracy_score(ytest, pred))\n",
        "\n",
        "svc = svm.SVC()\n",
        "pred = svc.fit(Xtrain, ytrain).predict(Xtest)\n",
        "print(\"Support Vector machine - \", accuracy_score(ytest, pred))\n",
        "\n",
        "mn = MultinomialNB()\n",
        "pred = mn.fit(Xtrain, ytrain).predict(Xtest)\n",
        "print(\"Naive Bayes - \", accuracy_score(ytest, pred))"
      ],
      "execution_count": 64,
      "outputs": [
        {
          "output_type": "stream",
          "text": [
            "Logistic Regression -  0.78\n",
            "Support Vector machine -  0.72\n",
            "Naive Bayes -  0.74\n"
          ],
          "name": "stdout"
        }
      ]
    },
    {
      "cell_type": "code",
      "metadata": {
        "id": "I9SNWL6I3fg8"
      },
      "source": [
        ""
      ],
      "execution_count": null,
      "outputs": []
    }
  ]
}