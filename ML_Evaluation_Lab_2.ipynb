{
  "nbformat": 4,
  "nbformat_minor": 0,
  "metadata": {
    "colab": {
      "name": "ML Evaluation Lab 2.ipynb",
      "provenance": [],
      "collapsed_sections": []
    },
    "kernelspec": {
      "name": "python3",
      "display_name": "Python 3"
    },
    "language_info": {
      "name": "python"
    }
  },
  "cells": [
    {
      "cell_type": "markdown",
      "metadata": {
        "id": "zb_7bQKP4Exz"
      },
      "source": [
        "## Parameshwari S - CB.SC.I5DAS18026"
      ]
    },
    {
      "cell_type": "markdown",
      "metadata": {
        "id": "n2VcIFPn2kQq"
      },
      "source": [
        "## Importing required packages"
      ]
    },
    {
      "cell_type": "code",
      "metadata": {
        "colab": {
          "base_uri": "https://localhost:8080/"
        },
        "id": "RBPte0km4L48",
        "outputId": "17a80e07-f914-43b0-f535-9ac4b50d8f64"
      },
      "source": [
        "import pandas as pd\n",
        "import numpy as np\n",
        "import string\n",
        "import re\n",
        "import nltk\n",
        "from nltk.stem import WordNetLemmatizer\n",
        "from nltk.corpus import wordnet\n",
        "nltk.download('averaged_perceptron_tagger')\n",
        "nltk.download('wordnet')\n",
        "nltk.download('punkt')\n",
        "\n",
        "from sklearn.feature_extraction.text import TfidfVectorizer\n",
        "from sklearn.model_selection import train_test_split\n",
        "from sklearn.linear_model import LogisticRegression\n",
        "from sklearn import svm\n",
        "from sklearn.naive_bayes import MultinomialNB\n",
        "from sklearn.metrics import accuracy_score"
      ],
      "execution_count": 1,
      "outputs": [
        {
          "output_type": "stream",
          "text": [
            "[nltk_data] Downloading package averaged_perceptron_tagger to\n",
            "[nltk_data]     /root/nltk_data...\n",
            "[nltk_data]   Unzipping taggers/averaged_perceptron_tagger.zip.\n",
            "[nltk_data] Downloading package wordnet to /root/nltk_data...\n",
            "[nltk_data]   Unzipping corpora/wordnet.zip.\n",
            "[nltk_data] Downloading package punkt to /root/nltk_data...\n",
            "[nltk_data]   Unzipping tokenizers/punkt.zip.\n"
          ],
          "name": "stdout"
        }
      ]
    },
    {
      "cell_type": "markdown",
      "metadata": {
        "id": "hB5Ao-rK2gOi"
      },
      "source": [
        "## Data Exploration"
      ]
    },
    {
      "cell_type": "code",
      "metadata": {
        "colab": {
          "base_uri": "https://localhost:8080/",
          "height": 204
        },
        "id": "DexSyq--4aax",
        "outputId": "ae316534-18cd-48cc-dc00-27bc1e205063"
      },
      "source": [
        "df = pd.read_excel(\"/content/dataset.xlsx\")\n",
        "df.head()"
      ],
      "execution_count": 2,
      "outputs": [
        {
          "output_type": "execute_result",
          "data": {
            "text/html": [
              "<div>\n",
              "<style scoped>\n",
              "    .dataframe tbody tr th:only-of-type {\n",
              "        vertical-align: middle;\n",
              "    }\n",
              "\n",
              "    .dataframe tbody tr th {\n",
              "        vertical-align: top;\n",
              "    }\n",
              "\n",
              "    .dataframe thead th {\n",
              "        text-align: right;\n",
              "    }\n",
              "</style>\n",
              "<table border=\"1\" class=\"dataframe\">\n",
              "  <thead>\n",
              "    <tr style=\"text-align: right;\">\n",
              "      <th></th>\n",
              "      <th>inline-comment-id</th>\n",
              "      <th># Comment</th>\n",
              "      <th>Question</th>\n",
              "      <th>Final Label</th>\n",
              "    </tr>\n",
              "  </thead>\n",
              "  <tbody>\n",
              "    <tr>\n",
              "      <th>0</th>\n",
              "      <td>84326dd1_566c7146</td>\n",
              "      <td>1</td>\n",
              "      <td>is this what they intended? don't they really ...</td>\n",
              "      <td>request for confirmation</td>\n",
              "    </tr>\n",
              "    <tr>\n",
              "      <th>1</th>\n",
              "      <td>84326dd1_566c7146</td>\n",
              "      <td>2</td>\n",
              "      <td>is this what they intended? don't they really ...</td>\n",
              "      <td>surprise</td>\n",
              "    </tr>\n",
              "    <tr>\n",
              "      <th>2</th>\n",
              "      <td>99d1f8e4_92b31cea</td>\n",
              "      <td>3</td>\n",
              "      <td>Don't we need to increment 'i' in the else cas...</td>\n",
              "      <td>suggestion</td>\n",
              "    </tr>\n",
              "    <tr>\n",
              "      <th>3</th>\n",
              "      <td>193d089f_f5fac752</td>\n",
              "      <td>4</td>\n",
              "      <td>i can't see anywhere where this is set to fals...</td>\n",
              "      <td>suggestion</td>\n",
              "    </tr>\n",
              "    <tr>\n",
              "      <th>4</th>\n",
              "      <td>50c2f81e_ac4fd6fc</td>\n",
              "      <td>5</td>\n",
              "      <td>are you sure you want to include this source f...</td>\n",
              "      <td>criticism</td>\n",
              "    </tr>\n",
              "  </tbody>\n",
              "</table>\n",
              "</div>"
            ],
            "text/plain": [
              "   inline-comment-id  ...               Final Label\n",
              "0  84326dd1_566c7146  ...  request for confirmation\n",
              "1  84326dd1_566c7146  ...                  surprise\n",
              "2  99d1f8e4_92b31cea  ...                suggestion\n",
              "3  193d089f_f5fac752  ...                suggestion\n",
              "4  50c2f81e_ac4fd6fc  ...                 criticism\n",
              "\n",
              "[5 rows x 4 columns]"
            ]
          },
          "metadata": {
            "tags": []
          },
          "execution_count": 2
        }
      ]
    },
    {
      "cell_type": "code",
      "metadata": {
        "colab": {
          "base_uri": "https://localhost:8080/"
        },
        "id": "bBEaCieB4ji-",
        "outputId": "9ea9925c-0cad-486a-d6a8-0b1d3df5f992"
      },
      "source": [
        "df.shape"
      ],
      "execution_count": 3,
      "outputs": [
        {
          "output_type": "execute_result",
          "data": {
            "text/plain": [
              "(499, 4)"
            ]
          },
          "metadata": {
            "tags": []
          },
          "execution_count": 3
        }
      ]
    },
    {
      "cell_type": "code",
      "metadata": {
        "colab": {
          "base_uri": "https://localhost:8080/"
        },
        "id": "xsZm3jvQ47w9",
        "outputId": "c225e33c-6194-41c9-f024-6677125fe235"
      },
      "source": [
        "df.info()"
      ],
      "execution_count": 4,
      "outputs": [
        {
          "output_type": "stream",
          "text": [
            "<class 'pandas.core.frame.DataFrame'>\n",
            "RangeIndex: 499 entries, 0 to 498\n",
            "Data columns (total 4 columns):\n",
            " #   Column             Non-Null Count  Dtype \n",
            "---  ------             --------------  ----- \n",
            " 0   inline-comment-id  499 non-null    object\n",
            " 1   # Comment          499 non-null    int64 \n",
            " 2   Question           499 non-null    object\n",
            " 3   Final Label        499 non-null    object\n",
            "dtypes: int64(1), object(3)\n",
            "memory usage: 15.7+ KB\n"
          ],
          "name": "stdout"
        }
      ]
    },
    {
      "cell_type": "code",
      "metadata": {
        "colab": {
          "base_uri": "https://localhost:8080/"
        },
        "id": "tawVNRW8XWkx",
        "outputId": "0e5d9ad9-c258-4d91-a55a-def4777660bb"
      },
      "source": [
        "df['Question'].duplicated()"
      ],
      "execution_count": 5,
      "outputs": [
        {
          "output_type": "execute_result",
          "data": {
            "text/plain": [
              "0      False\n",
              "1       True\n",
              "2      False\n",
              "3      False\n",
              "4      False\n",
              "       ...  \n",
              "494     True\n",
              "495    False\n",
              "496     True\n",
              "497    False\n",
              "498    False\n",
              "Name: Question, Length: 499, dtype: bool"
            ]
          },
          "metadata": {
            "tags": []
          },
          "execution_count": 5
        }
      ]
    },
    {
      "cell_type": "code",
      "metadata": {
        "colab": {
          "base_uri": "https://localhost:8080/"
        },
        "id": "RdM6zQ85Swzp",
        "outputId": "e5c1f557-a08b-443f-f517-8424760226f4"
      },
      "source": [
        "df['Final Label'].value_counts()"
      ],
      "execution_count": 6,
      "outputs": [
        {
          "output_type": "execute_result",
          "data": {
            "text/plain": [
              "suggestion                   163\n",
              "request for confirmation      92\n",
              "request for information       58\n",
              "request for rationale         45\n",
              "request for action            32\n",
              "criticism                     25\n",
              "request for clarification     24\n",
              "request for opinion           21\n",
              "hypothetical scenario         13\n",
              "surprise                       7\n",
              "rhetorical question            6\n",
              "anger                          6\n",
              "discarded                      5\n",
              "action                         2\n",
              "Name: Final Label, dtype: int64"
            ]
          },
          "metadata": {
            "tags": []
          },
          "execution_count": 6
        }
      ]
    },
    {
      "cell_type": "code",
      "metadata": {
        "id": "k6GXtW7iS6HC"
      },
      "source": [
        "df = df.replace(to_replace = [\"request for confirmation\", \"request for information\",\"request for rationale\",\n",
        "                                 \"request for action\",\"request for clarification\",\"request for opinion\",\"action\"],\n",
        "                    value = \"Requests\")\n",
        "df = df.replace(to_replace = [\"criticism\",\"anger\",\"surprise\"], value = 'Attitudes and emotions')"
      ],
      "execution_count": 7,
      "outputs": []
    },
    {
      "cell_type": "code",
      "metadata": {
        "colab": {
          "base_uri": "https://localhost:8080/"
        },
        "id": "aDFc2JIkS-j8",
        "outputId": "7d6c742a-0436-45bf-ec45-e494911aa316"
      },
      "source": [
        "df['Final Label'].value_counts()"
      ],
      "execution_count": 8,
      "outputs": [
        {
          "output_type": "execute_result",
          "data": {
            "text/plain": [
              "Requests                  274\n",
              "suggestion                163\n",
              "Attitudes and emotions     38\n",
              "hypothetical scenario      13\n",
              "rhetorical question         6\n",
              "discarded                   5\n",
              "Name: Final Label, dtype: int64"
            ]
          },
          "metadata": {
            "tags": []
          },
          "execution_count": 8
        }
      ]
    },
    {
      "cell_type": "code",
      "metadata": {
        "id": "zzHBEQgepeP8"
      },
      "source": [
        "df.rename(columns = {'inline-comment-id' : 'Id', '# Comment' : 'Comment'}, inplace = True)"
      ],
      "execution_count": 9,
      "outputs": []
    },
    {
      "cell_type": "code",
      "metadata": {
        "colab": {
          "base_uri": "https://localhost:8080/",
          "height": 35
        },
        "id": "MpRQ0H98DbDh",
        "outputId": "cce84858-2652-4d01-8ae0-3e033f64d835"
      },
      "source": [
        "df['Question'][4]"
      ],
      "execution_count": 10,
      "outputs": [
        {
          "output_type": "execute_result",
          "data": {
            "application/vnd.google.colaboratory.intrinsic+json": {
              "type": "string"
            },
            "text/plain": [
              "'are you sure you want to include this source file directly ? Why not create a static library ?\\n'"
            ]
          },
          "metadata": {
            "tags": []
          },
          "execution_count": 10
        }
      ]
    },
    {
      "cell_type": "code",
      "metadata": {
        "colab": {
          "base_uri": "https://localhost:8080/",
          "height": 35
        },
        "id": "BO5K55c4Dax4",
        "outputId": "55ff2c54-cdca-4912-eb1e-11313cde4025"
      },
      "source": [
        "df['Question'][5]"
      ],
      "execution_count": 11,
      "outputs": [
        {
          "output_type": "execute_result",
          "data": {
            "application/vnd.google.colaboratory.intrinsic+json": {
              "type": "string"
            },
            "text/plain": [
              "'are you sure you want to include this source file directly ? Why not create a static library ?\\n'"
            ]
          },
          "metadata": {
            "tags": []
          },
          "execution_count": 11
        }
      ]
    },
    {
      "cell_type": "code",
      "metadata": {
        "colab": {
          "base_uri": "https://localhost:8080/"
        },
        "id": "HvAcVehD5Le2",
        "outputId": "fb727acb-4149-441e-cecf-d080e3624538"
      },
      "source": [
        "df['Question'][4] == df['Question'][5]"
      ],
      "execution_count": 12,
      "outputs": [
        {
          "output_type": "execute_result",
          "data": {
            "text/plain": [
              "True"
            ]
          },
          "metadata": {
            "tags": []
          },
          "execution_count": 12
        }
      ]
    },
    {
      "cell_type": "markdown",
      "metadata": {
        "id": "hyUeLkxED1Or"
      },
      "source": [
        "## Text-Preprocessing"
      ]
    },
    {
      "cell_type": "code",
      "metadata": {
        "id": "iL8WGpc9EAOk"
      },
      "source": [
        "dfc = df.copy()"
      ],
      "execution_count": 13,
      "outputs": []
    },
    {
      "cell_type": "code",
      "metadata": {
        "id": "T6TD6pwwTPDi"
      },
      "source": [
        "def remove_special_characters(text):\n",
        "    pat = r'[^a-zA-z0-9.,!?/:;\\\"\\'\\s]'\n",
        "    return re.sub(pat, '', text)"
      ],
      "execution_count": 14,
      "outputs": []
    },
    {
      "cell_type": "code",
      "metadata": {
        "id": "_V5Kpg4t6EHN"
      },
      "source": [
        "def removePunctuations(sentence):\n",
        "    cleaned_text  = re.sub('[^a-zA-Z]',' ',sentence)\n",
        "    return cleaned_text"
      ],
      "execution_count": 15,
      "outputs": []
    },
    {
      "cell_type": "code",
      "metadata": {
        "id": "CalGa6snJZNp"
      },
      "source": [
        "def line_breaks(x):\n",
        "  return x.replace('\\n', ' ').replace('\\r', '')"
      ],
      "execution_count": 16,
      "outputs": []
    },
    {
      "cell_type": "code",
      "metadata": {
        "id": "TdM_zn8-dYl6"
      },
      "source": [
        "def space_num(x):\n",
        "  x = re.sub(\"\\S*\\d\\S*\", \"\", x).strip()\n",
        "  return x"
      ],
      "execution_count": 17,
      "outputs": []
    },
    {
      "cell_type": "code",
      "metadata": {
        "id": "b-A9H_TPExXT"
      },
      "source": [
        "def removeURL(sentence):\n",
        "    text = re.sub(r\"http\\S+\", \" \", sentence)\n",
        "    sentence = re.sub(r\"www.\\S+\", \" \", text)\n",
        "    return sentence"
      ],
      "execution_count": 18,
      "outputs": []
    },
    {
      "cell_type": "code",
      "metadata": {
        "id": "23GBC9i2LzDf"
      },
      "source": [
        "def remove_html(text):\n",
        "    html_pattern = re.compile('<.*?>')\n",
        "    return html_pattern.sub(r'', text)"
      ],
      "execution_count": 19,
      "outputs": []
    },
    {
      "cell_type": "code",
      "metadata": {
        "id": "TTjxG_UGiIUv"
      },
      "source": [
        "def removePatterns(sentence): \n",
        "    cleaned_text  = re.sub(\"\\\\s*\\\\b(?=\\\\w*(\\\\w)\\\\1{2,})\\\\w*\\\\b\",' ',sentence)\n",
        "    return (cleaned_text)"
      ],
      "execution_count": 20,
      "outputs": []
    },
    {
      "cell_type": "code",
      "metadata": {
        "id": "g1v5Fdf7c0fZ"
      },
      "source": [
        "def decontracted(phrase):\n",
        "    phrase = re.sub(r\"won't\", \"will not\", phrase)\n",
        "    phrase = re.sub(r\"can\\'t\", \"can not\", phrase)\n",
        "    phrase = re.sub(r\"n\\'t\", \" not\", phrase)\n",
        "    phrase = re.sub(r\"\\'re\", \" are\", phrase)\n",
        "    phrase = re.sub(r\"\\'s\", \" is\", phrase)\n",
        "    phrase = re.sub(r\"\\'d\", \" would\", phrase)\n",
        "    phrase = re.sub(r\"\\'ll\", \" will\", phrase)\n",
        "    phrase = re.sub(r\"\\'t\", \" not\", phrase)\n",
        "    phrase = re.sub(r\"\\'ve\", \" have\", phrase)\n",
        "    phrase = re.sub(r\"\\'m\", \" am\", phrase)\n",
        "    return phrase"
      ],
      "execution_count": 21,
      "outputs": []
    },
    {
      "cell_type": "code",
      "metadata": {
        "id": "mpbLDl0Wletm"
      },
      "source": [
        "lemmatizer = WordNetLemmatizer()\n",
        "def pos_tagger(nltk_tag):\n",
        "    if nltk_tag.startswith('J'):\n",
        "        return wordnet.ADJ\n",
        "    elif nltk_tag.startswith('V'):\n",
        "        return wordnet.VERB\n",
        "    elif nltk_tag.startswith('N'):\n",
        "        return wordnet.NOUN\n",
        "    elif nltk_tag.startswith('R'):\n",
        "        return wordnet.ADV\n",
        "    else:          \n",
        "        return None\n",
        "def lemmatize_sent(i):\n",
        "  pos_tagged = nltk.pos_tag(nltk.word_tokenize(i))  \n",
        "  wordnet_tagged = list(map(lambda x: (x[0], pos_tagger(x[1])), pos_tagged))\n",
        "  lemmatized_sentence = []\n",
        "  for word, tag in wordnet_tagged:\n",
        "    if tag is None:\n",
        "        lemmatized_sentence.append(word)\n",
        "    else:        \n",
        "        lemmatized_sentence.append(lemmatizer.lemmatize(word, tag))\n",
        "  lemmatized_sentence = \" \".join(lemmatized_sentence)\n",
        "  return lemmatized_sentence"
      ],
      "execution_count": 22,
      "outputs": []
    },
    {
      "cell_type": "code",
      "metadata": {
        "id": "05AORqI_36bX"
      },
      "source": [
        "final = []\n",
        "for text in dfc['Question'].values:\n",
        "  filter = []\n",
        "  text = remove_special_characters(text)\n",
        "  text = text.lower()\n",
        "  text = removePunctuations(text)\n",
        "  text = line_breaks(text)\n",
        "  text = removeURL(text)\n",
        "  text = remove_html(text)\n",
        "  text = decontracted(text)\n",
        "  text = space_num(text)\n",
        "  text = removePatterns(text)\n",
        "  for cleaned_words in text.split():  \n",
        "    s = lemmatize_sent(cleaned_words)\n",
        "    filter.append(s)\n",
        "  text = \" \".join(filter)\n",
        "  final.append(text)"
      ],
      "execution_count": 23,
      "outputs": []
    },
    {
      "cell_type": "code",
      "metadata": {
        "id": "nuYmXduPepb_",
        "colab": {
          "base_uri": "https://localhost:8080/",
          "height": 204
        },
        "outputId": "13c68922-b67b-419e-ed49-6fbc999e4e7c"
      },
      "source": [
        "dfc['Final text'] = final\n",
        "dfc.head()"
      ],
      "execution_count": 24,
      "outputs": [
        {
          "output_type": "execute_result",
          "data": {
            "text/html": [
              "<div>\n",
              "<style scoped>\n",
              "    .dataframe tbody tr th:only-of-type {\n",
              "        vertical-align: middle;\n",
              "    }\n",
              "\n",
              "    .dataframe tbody tr th {\n",
              "        vertical-align: top;\n",
              "    }\n",
              "\n",
              "    .dataframe thead th {\n",
              "        text-align: right;\n",
              "    }\n",
              "</style>\n",
              "<table border=\"1\" class=\"dataframe\">\n",
              "  <thead>\n",
              "    <tr style=\"text-align: right;\">\n",
              "      <th></th>\n",
              "      <th>Id</th>\n",
              "      <th>Comment</th>\n",
              "      <th>Question</th>\n",
              "      <th>Final Label</th>\n",
              "      <th>Final text</th>\n",
              "    </tr>\n",
              "  </thead>\n",
              "  <tbody>\n",
              "    <tr>\n",
              "      <th>0</th>\n",
              "      <td>84326dd1_566c7146</td>\n",
              "      <td>1</td>\n",
              "      <td>is this what they intended? don't they really ...</td>\n",
              "      <td>Requests</td>\n",
              "      <td>be this what they intend don t they really wan...</td>\n",
              "    </tr>\n",
              "    <tr>\n",
              "      <th>1</th>\n",
              "      <td>84326dd1_566c7146</td>\n",
              "      <td>2</td>\n",
              "      <td>is this what they intended? don't they really ...</td>\n",
              "      <td>Attitudes and emotions</td>\n",
              "      <td>be this what they intend don t they really wan...</td>\n",
              "    </tr>\n",
              "    <tr>\n",
              "      <th>2</th>\n",
              "      <td>99d1f8e4_92b31cea</td>\n",
              "      <td>3</td>\n",
              "      <td>Don't we need to increment 'i' in the else cas...</td>\n",
              "      <td>suggestion</td>\n",
              "      <td>don t we need to increment i in the else case ...</td>\n",
              "    </tr>\n",
              "    <tr>\n",
              "      <th>3</th>\n",
              "      <td>193d089f_f5fac752</td>\n",
              "      <td>4</td>\n",
              "      <td>i can't see anywhere where this is set to fals...</td>\n",
              "      <td>suggestion</td>\n",
              "      <td>i can t see anywhere where this be set to fals...</td>\n",
              "    </tr>\n",
              "    <tr>\n",
              "      <th>4</th>\n",
              "      <td>50c2f81e_ac4fd6fc</td>\n",
              "      <td>5</td>\n",
              "      <td>are you sure you want to include this source f...</td>\n",
              "      <td>Attitudes and emotions</td>\n",
              "      <td>be you sure you want to include this source fi...</td>\n",
              "    </tr>\n",
              "  </tbody>\n",
              "</table>\n",
              "</div>"
            ],
            "text/plain": [
              "                  Id  ...                                         Final text\n",
              "0  84326dd1_566c7146  ...  be this what they intend don t they really wan...\n",
              "1  84326dd1_566c7146  ...  be this what they intend don t they really wan...\n",
              "2  99d1f8e4_92b31cea  ...  don t we need to increment i in the else case ...\n",
              "3  193d089f_f5fac752  ...  i can t see anywhere where this be set to fals...\n",
              "4  50c2f81e_ac4fd6fc  ...  be you sure you want to include this source fi...\n",
              "\n",
              "[5 rows x 5 columns]"
            ]
          },
          "metadata": {
            "tags": []
          },
          "execution_count": 24
        }
      ]
    },
    {
      "cell_type": "markdown",
      "metadata": {
        "id": "7LC7PILEG7_c"
      },
      "source": [
        "##Without adding Feature"
      ]
    },
    {
      "cell_type": "markdown",
      "metadata": {
        "id": "IAzw6x6lG_Iu"
      },
      "source": [
        "##Vectorizing"
      ]
    },
    {
      "cell_type": "code",
      "metadata": {
        "id": "nV_6Fg9sGsod"
      },
      "source": [
        "Tfidf = TfidfVectorizer(ngram_range = (1, 2))\n",
        "tfd = Tfidf.fit_transform(dfc['Final text'])"
      ],
      "execution_count": 25,
      "outputs": []
    },
    {
      "cell_type": "markdown",
      "metadata": {
        "id": "MTt78w-aHCcw"
      },
      "source": [
        "##Train-test split"
      ]
    },
    {
      "cell_type": "code",
      "metadata": {
        "id": "Rod3txs9Gx5E"
      },
      "source": [
        "Xtrain, Xtest, ytrain, ytest = train_test_split(tfd, dfc['Final Label'], random_state = 42, test_size = 0.1)"
      ],
      "execution_count": 26,
      "outputs": []
    },
    {
      "cell_type": "markdown",
      "metadata": {
        "id": "5Sk62x1THEnz"
      },
      "source": [
        "##Evaluation"
      ]
    },
    {
      "cell_type": "code",
      "metadata": {
        "colab": {
          "base_uri": "https://localhost:8080/"
        },
        "id": "cpvDFoWWG0Vo",
        "outputId": "5023ac24-bfec-4f34-cc11-024331a73583"
      },
      "source": [
        "lr = LogisticRegression(max_iter = 500)\n",
        "pred = lr.fit(Xtrain,ytrain).predict(Xtest)\n",
        "print(\"Logistic Regression - \", accuracy_score(ytest, pred))\n",
        "\n",
        "svc = svm.SVC()\n",
        "pred = svc.fit(Xtrain, ytrain).predict(Xtest)\n",
        "print(\"Support Vector machine - \", accuracy_score(ytest, pred))\n",
        "\n",
        "mn = MultinomialNB()\n",
        "pred = mn.fit(Xtrain, ytrain).predict(Xtest)\n",
        "print(\"Naive Bayes - \", accuracy_score(ytest, pred))"
      ],
      "execution_count": 27,
      "outputs": [
        {
          "output_type": "stream",
          "text": [
            "Logistic Regression -  0.74\n",
            "Support Vector machine -  0.7\n",
            "Naive Bayes -  0.72\n"
          ],
          "name": "stdout"
        }
      ]
    },
    {
      "cell_type": "markdown",
      "metadata": {
        "id": "BR0GMhZWFkNQ"
      },
      "source": [
        "##Adding extra Feature - Length of the text"
      ]
    },
    {
      "cell_type": "code",
      "metadata": {
        "colab": {
          "base_uri": "https://localhost:8080/",
          "height": 204
        },
        "id": "umrw8rJjAutA",
        "outputId": "701401bf-6fef-42e4-fcc0-2498f33a8fc9"
      },
      "source": [
        "length = []\n",
        "for i in range(len(dfc)):\n",
        "  length.append(len(dfc['Question'][i].split()))\n",
        "dfc['Length'] = length\n",
        "dfc.head()"
      ],
      "execution_count": 28,
      "outputs": [
        {
          "output_type": "execute_result",
          "data": {
            "text/html": [
              "<div>\n",
              "<style scoped>\n",
              "    .dataframe tbody tr th:only-of-type {\n",
              "        vertical-align: middle;\n",
              "    }\n",
              "\n",
              "    .dataframe tbody tr th {\n",
              "        vertical-align: top;\n",
              "    }\n",
              "\n",
              "    .dataframe thead th {\n",
              "        text-align: right;\n",
              "    }\n",
              "</style>\n",
              "<table border=\"1\" class=\"dataframe\">\n",
              "  <thead>\n",
              "    <tr style=\"text-align: right;\">\n",
              "      <th></th>\n",
              "      <th>Id</th>\n",
              "      <th>Comment</th>\n",
              "      <th>Question</th>\n",
              "      <th>Final Label</th>\n",
              "      <th>Final text</th>\n",
              "      <th>Length</th>\n",
              "    </tr>\n",
              "  </thead>\n",
              "  <tbody>\n",
              "    <tr>\n",
              "      <th>0</th>\n",
              "      <td>84326dd1_566c7146</td>\n",
              "      <td>1</td>\n",
              "      <td>is this what they intended? don't they really ...</td>\n",
              "      <td>Requests</td>\n",
              "      <td>be this what they intend don t they really wan...</td>\n",
              "      <td>10</td>\n",
              "    </tr>\n",
              "    <tr>\n",
              "      <th>1</th>\n",
              "      <td>84326dd1_566c7146</td>\n",
              "      <td>2</td>\n",
              "      <td>is this what they intended? don't they really ...</td>\n",
              "      <td>Attitudes and emotions</td>\n",
              "      <td>be this what they intend don t they really wan...</td>\n",
              "      <td>10</td>\n",
              "    </tr>\n",
              "    <tr>\n",
              "      <th>2</th>\n",
              "      <td>99d1f8e4_92b31cea</td>\n",
              "      <td>3</td>\n",
              "      <td>Don't we need to increment 'i' in the else cas...</td>\n",
              "      <td>suggestion</td>\n",
              "      <td>don t we need to increment i in the else case ...</td>\n",
              "      <td>16</td>\n",
              "    </tr>\n",
              "    <tr>\n",
              "      <th>3</th>\n",
              "      <td>193d089f_f5fac752</td>\n",
              "      <td>4</td>\n",
              "      <td>i can't see anywhere where this is set to fals...</td>\n",
              "      <td>suggestion</td>\n",
              "      <td>i can t see anywhere where this be set to fals...</td>\n",
              "      <td>23</td>\n",
              "    </tr>\n",
              "    <tr>\n",
              "      <th>4</th>\n",
              "      <td>50c2f81e_ac4fd6fc</td>\n",
              "      <td>5</td>\n",
              "      <td>are you sure you want to include this source f...</td>\n",
              "      <td>Attitudes and emotions</td>\n",
              "      <td>be you sure you want to include this source fi...</td>\n",
              "      <td>19</td>\n",
              "    </tr>\n",
              "  </tbody>\n",
              "</table>\n",
              "</div>"
            ],
            "text/plain": [
              "                  Id  ...  Length\n",
              "0  84326dd1_566c7146  ...      10\n",
              "1  84326dd1_566c7146  ...      10\n",
              "2  99d1f8e4_92b31cea  ...      16\n",
              "3  193d089f_f5fac752  ...      23\n",
              "4  50c2f81e_ac4fd6fc  ...      19\n",
              "\n",
              "[5 rows x 6 columns]"
            ]
          },
          "metadata": {
            "tags": []
          },
          "execution_count": 28
        }
      ]
    },
    {
      "cell_type": "markdown",
      "metadata": {
        "id": "xD8QZ3cAFuep"
      },
      "source": [
        "##Vectorizing"
      ]
    },
    {
      "cell_type": "code",
      "metadata": {
        "id": "6v9COGRxJHSn"
      },
      "source": [
        "Tfidf = TfidfVectorizer(ngram_range = (1, 2))\n",
        "tfd = Tfidf.fit_transform(dfc['Final text'])"
      ],
      "execution_count": 29,
      "outputs": []
    },
    {
      "cell_type": "code",
      "metadata": {
        "id": "o7EneL5X3kdX"
      },
      "source": [
        "x = list(tfd.toarray())\n",
        "y = dfc['Length'].to_list()\n",
        "z = []\n",
        "for i,j in enumerate(x):\n",
        "  z.append(np.append(x[i], y[i]))\n",
        "X = np.asarray(z)"
      ],
      "execution_count": 30,
      "outputs": []
    },
    {
      "cell_type": "markdown",
      "metadata": {
        "id": "cIW4CmRkFzjP"
      },
      "source": [
        "##Train-test split"
      ]
    },
    {
      "cell_type": "code",
      "metadata": {
        "id": "Ee_ylshB1zr6"
      },
      "source": [
        "Xtrain, Xtest, ytrain, ytest = train_test_split(X, dfc['Final Label'], random_state = 42, test_size = 0.1)"
      ],
      "execution_count": 31,
      "outputs": []
    },
    {
      "cell_type": "markdown",
      "metadata": {
        "id": "o1qr6q77F5pd"
      },
      "source": [
        "##Evaluation"
      ]
    },
    {
      "cell_type": "code",
      "metadata": {
        "colab": {
          "base_uri": "https://localhost:8080/"
        },
        "id": "6EUoSOnv3d4P",
        "outputId": "f7c04b9c-e079-44e4-dfd2-3c89a75a77cd"
      },
      "source": [
        "lr = LogisticRegression(max_iter = 500)\n",
        "pred = lr.fit(Xtrain,ytrain).predict(Xtest)\n",
        "print(\"Logistic Regression - \", accuracy_score(ytest, pred))\n",
        "\n",
        "svc = svm.SVC()\n",
        "pred = svc.fit(Xtrain, ytrain).predict(Xtest)\n",
        "print(\"Support Vector machine - \", accuracy_score(ytest, pred))\n",
        "\n",
        "mn = MultinomialNB()\n",
        "pred = mn.fit(Xtrain, ytrain).predict(Xtest)\n",
        "print(\"Naive Bayes - \", accuracy_score(ytest, pred))"
      ],
      "execution_count": 32,
      "outputs": [
        {
          "output_type": "stream",
          "text": [
            "Logistic Regression -  0.68\n",
            "Support Vector machine -  0.56\n",
            "Naive Bayes -  0.74\n"
          ],
          "name": "stdout"
        }
      ]
    },
    {
      "cell_type": "code",
      "metadata": {
        "id": "I9SNWL6I3fg8"
      },
      "source": [
        ""
      ],
      "execution_count": null,
      "outputs": []
    }
  ]
}